{
 "cells": [
  {
   "cell_type": "markdown",
   "metadata": {},
   "source": [
    "# 1 Read and clean police data\n",
    "\n",
    "## 1.1 Data download\n",
    "\n",
    "* inputdir is the folder where we put the police data downloaded from __[here](https://data.police.uk/data/)__. The data are organised into subfolder, one for each month. We have to read the monthly files and merge them into one single big file \n",
    "* policedata is the csv file where we save all the merged data\n",
    "* the rural/urban classification for LSOA is downloaded from __[here](https://ons.maps.arcgis.com/home/item.html?id=7adcd11fff60422da067b3d4858a9de9)__. This is used to create the labels. Note that this data is not very up to date, with many missing lsoas. A better source could be __[here](https://www.ons.gov.uk/peoplepopulationandcommunity/populationandmigration/populationestimates/datasets/lowersuperoutputareamidyearpopulationestimates)__"
   ]
  },
  {
   "cell_type": "code",
   "execution_count": 1,
   "metadata": {
    "collapsed": true
   },
   "outputs": [],
   "source": [
    "inputdir = 'C:/Users/Lanthao/Desktop/GAN/data'\n",
    "policedata = '../data/south-wales-street.csv'\n",
    "crosstable = '../data/south-wales-street_crosstable.csv'"
   ]
  },
  {
   "cell_type": "markdown",
   "metadata": {},
   "source": [
    "## 1.2 Read and merge data"
   ]
  },
  {
   "cell_type": "code",
   "execution_count": 2,
   "metadata": {},
   "outputs": [
    {
     "name": "stdout",
     "output_type": "stream",
     "text": [
      "(406782, 6)\n"
     ]
    }
   ],
   "source": [
    "import pandas as pd\n",
    "from glob import glob\n",
    "import os\n",
    "\n",
    "# List all subfolders in inputDir\n",
    "dirs = glob(inputdir + \"/*/\")\n",
    "\n",
    "df = pd.DataFrame()\n",
    "for d in dirs: \n",
    "    for file in os.listdir(d):\n",
    "       if file.endswith(\"south-wales-street.csv\"):\n",
    "            df_tmp = pd.read_csv(d + '/' + file)\n",
    "            df = pd.concat([df,df_tmp], axis=0)\n",
    "            #print('Reading... %s, df size=%d'%(file,len(df)))\n",
    "df = df[['Month','Longitude','Latitude','Location','LSOA name','Crime type']]\n",
    "print(df.shape)            "
   ]
  },
  {
   "cell_type": "markdown",
   "metadata": {},
   "source": [
    "## 1.3 Clean off that NaN"
   ]
  },
  {
   "cell_type": "code",
   "execution_count": 3,
   "metadata": {},
   "outputs": [
    {
     "data": {
      "text/html": [
       "<div>\n",
       "<style>\n",
       "    .dataframe thead tr:only-child th {\n",
       "        text-align: right;\n",
       "    }\n",
       "\n",
       "    .dataframe thead th {\n",
       "        text-align: left;\n",
       "    }\n",
       "\n",
       "    .dataframe tbody tr th {\n",
       "        vertical-align: top;\n",
       "    }\n",
       "</style>\n",
       "<table border=\"1\" class=\"dataframe\">\n",
       "  <thead>\n",
       "    <tr style=\"text-align: right;\">\n",
       "      <th></th>\n",
       "      <th>Month</th>\n",
       "      <th>Longitude</th>\n",
       "      <th>Latitude</th>\n",
       "      <th>Location</th>\n",
       "      <th>LSOA name</th>\n",
       "      <th>Crime type</th>\n",
       "    </tr>\n",
       "  </thead>\n",
       "  <tbody>\n",
       "    <tr>\n",
       "      <th>8114</th>\n",
       "      <td>2016-09</td>\n",
       "      <td>-3.277156</td>\n",
       "      <td>51.562958</td>\n",
       "      <td>On or near Rhyd-Yr-Helyg</td>\n",
       "      <td>Rhondda Cynon Taf 026C</td>\n",
       "      <td>Anti-social behaviour</td>\n",
       "    </tr>\n",
       "    <tr>\n",
       "      <th>2964</th>\n",
       "      <td>2018-02</td>\n",
       "      <td>-3.174301</td>\n",
       "      <td>51.478673</td>\n",
       "      <td>On or near Parking Area</td>\n",
       "      <td>Cardiff 032G</td>\n",
       "      <td>Shoplifting</td>\n",
       "    </tr>\n",
       "    <tr>\n",
       "      <th>2901</th>\n",
       "      <td>2017-04</td>\n",
       "      <td>-3.176574</td>\n",
       "      <td>51.482498</td>\n",
       "      <td>On or near Shopping Area</td>\n",
       "      <td>Cardiff 032F</td>\n",
       "      <td>Shoplifting</td>\n",
       "    </tr>\n",
       "    <tr>\n",
       "      <th>5065</th>\n",
       "      <td>2017-03</td>\n",
       "      <td>-3.170632</td>\n",
       "      <td>51.464709</td>\n",
       "      <td>On or near Police Station</td>\n",
       "      <td>Cardiff 049B</td>\n",
       "      <td>Possession of weapons</td>\n",
       "    </tr>\n",
       "    <tr>\n",
       "      <th>842</th>\n",
       "      <td>2015-10</td>\n",
       "      <td>-3.567851</td>\n",
       "      <td>51.511073</td>\n",
       "      <td>On or near Glendower Close</td>\n",
       "      <td>Bridgend 016B</td>\n",
       "      <td>Criminal damage and arson</td>\n",
       "    </tr>\n",
       "  </tbody>\n",
       "</table>\n",
       "</div>"
      ],
      "text/plain": [
       "        Month  Longitude   Latitude                    Location  \\\n",
       "8114  2016-09  -3.277156  51.562958    On or near Rhyd-Yr-Helyg   \n",
       "2964  2018-02  -3.174301  51.478673     On or near Parking Area   \n",
       "2901  2017-04  -3.176574  51.482498    On or near Shopping Area   \n",
       "5065  2017-03  -3.170632  51.464709   On or near Police Station   \n",
       "842   2015-10  -3.567851  51.511073  On or near Glendower Close   \n",
       "\n",
       "                   LSOA name                 Crime type  \n",
       "8114  Rhondda Cynon Taf 026C      Anti-social behaviour  \n",
       "2964            Cardiff 032G                Shoplifting  \n",
       "2901            Cardiff 032F                Shoplifting  \n",
       "5065            Cardiff 049B      Possession of weapons  \n",
       "842            Bridgend 016B  Criminal damage and arson  "
      ]
     },
     "execution_count": 3,
     "metadata": {},
     "output_type": "execute_result"
    }
   ],
   "source": [
    "df = df.dropna(subset = ['LSOA name', 'Month', 'Crime type'], axis=0)\n",
    "df.sample(5)"
   ]
  },
  {
   "cell_type": "markdown",
   "metadata": {},
   "source": [
    "## 1.4 Save to disk"
   ]
  },
  {
   "cell_type": "code",
   "execution_count": 4,
   "metadata": {},
   "outputs": [
    {
     "name": "stdout",
     "output_type": "stream",
     "text": [
      "Saved to ../data/south-wales-street.csv. Done!\n"
     ]
    }
   ],
   "source": [
    "df.to_csv(policedata, index=False)\n",
    "print('Saved to %s. Done!'%policedata)"
   ]
  },
  {
   "cell_type": "markdown",
   "metadata": {},
   "source": [
    "# 2 Reformat data for modelling \n",
    "\n",
    "## 2.1 Read data in"
   ]
  },
  {
   "cell_type": "code",
   "execution_count": 5,
   "metadata": {
    "collapsed": true
   },
   "outputs": [],
   "source": [
    "policedata = '../data/south-wales-street.csv'\n",
    "crosstable = '../data/south-wales-street_crosstable_method2.csv'\n",
    "modelready = './output/modelready_method2.csv'"
   ]
  },
  {
   "cell_type": "code",
   "execution_count": 6,
   "metadata": {},
   "outputs": [
    {
     "name": "stdout",
     "output_type": "stream",
     "text": [
      "(398530, 3)\n"
     ]
    },
    {
     "data": {
      "text/html": [
       "<div>\n",
       "<style>\n",
       "    .dataframe thead tr:only-child th {\n",
       "        text-align: right;\n",
       "    }\n",
       "\n",
       "    .dataframe thead th {\n",
       "        text-align: left;\n",
       "    }\n",
       "\n",
       "    .dataframe tbody tr th {\n",
       "        vertical-align: top;\n",
       "    }\n",
       "</style>\n",
       "<table border=\"1\" class=\"dataframe\">\n",
       "  <thead>\n",
       "    <tr style=\"text-align: right;\">\n",
       "      <th></th>\n",
       "      <th>Month</th>\n",
       "      <th>LSOA name</th>\n",
       "      <th>Crime type</th>\n",
       "    </tr>\n",
       "  </thead>\n",
       "  <tbody>\n",
       "    <tr>\n",
       "      <th>0</th>\n",
       "      <td>2015-04</td>\n",
       "      <td>Blaenau Gwent 006E</td>\n",
       "      <td>Public order</td>\n",
       "    </tr>\n",
       "    <tr>\n",
       "      <th>1</th>\n",
       "      <td>2015-04</td>\n",
       "      <td>Bridgend 001A</td>\n",
       "      <td>Anti-social behaviour</td>\n",
       "    </tr>\n",
       "    <tr>\n",
       "      <th>2</th>\n",
       "      <td>2015-04</td>\n",
       "      <td>Bridgend 001A</td>\n",
       "      <td>Anti-social behaviour</td>\n",
       "    </tr>\n",
       "    <tr>\n",
       "      <th>3</th>\n",
       "      <td>2015-04</td>\n",
       "      <td>Bridgend 001A</td>\n",
       "      <td>Bicycle theft</td>\n",
       "    </tr>\n",
       "    <tr>\n",
       "      <th>4</th>\n",
       "      <td>2015-04</td>\n",
       "      <td>Bridgend 001A</td>\n",
       "      <td>Burglary</td>\n",
       "    </tr>\n",
       "  </tbody>\n",
       "</table>\n",
       "</div>"
      ],
      "text/plain": [
       "     Month           LSOA name             Crime type\n",
       "0  2015-04  Blaenau Gwent 006E           Public order\n",
       "1  2015-04       Bridgend 001A  Anti-social behaviour\n",
       "2  2015-04       Bridgend 001A  Anti-social behaviour\n",
       "3  2015-04       Bridgend 001A          Bicycle theft\n",
       "4  2015-04       Bridgend 001A               Burglary"
      ]
     },
     "execution_count": 6,
     "metadata": {},
     "output_type": "execute_result"
    }
   ],
   "source": [
    "import pandas as pd\n",
    "\n",
    "df = pd.read_csv(policedata)[['Month','LSOA name','Crime type']]\n",
    "\n",
    "print(df.shape)\n",
    "df.head(5)"
   ]
  },
  {
   "cell_type": "markdown",
   "metadata": {},
   "source": [
    "## 2.2 Compute cross table"
   ]
  },
  {
   "cell_type": "code",
   "execution_count": 7,
   "metadata": {},
   "outputs": [
    {
     "data": {
      "text/html": [
       "<div>\n",
       "<style>\n",
       "    .dataframe thead tr:only-child th {\n",
       "        text-align: right;\n",
       "    }\n",
       "\n",
       "    .dataframe thead th {\n",
       "        text-align: left;\n",
       "    }\n",
       "\n",
       "    .dataframe tbody tr th {\n",
       "        vertical-align: top;\n",
       "    }\n",
       "</style>\n",
       "<table border=\"1\" class=\"dataframe\">\n",
       "  <thead>\n",
       "    <tr style=\"text-align: right;\">\n",
       "      <th></th>\n",
       "      <th>Crime type</th>\n",
       "      <th>Anti-social behaviour</th>\n",
       "      <th>Bicycle theft</th>\n",
       "      <th>Burglary</th>\n",
       "      <th>Criminal damage and arson</th>\n",
       "      <th>Drugs</th>\n",
       "      <th>Other crime</th>\n",
       "      <th>Other theft</th>\n",
       "      <th>Possession of weapons</th>\n",
       "      <th>Public order</th>\n",
       "      <th>Robbery</th>\n",
       "      <th>Shoplifting</th>\n",
       "      <th>Theft from the person</th>\n",
       "      <th>Vehicle crime</th>\n",
       "      <th>Violence and sexual offences</th>\n",
       "    </tr>\n",
       "    <tr>\n",
       "      <th>LSOA name</th>\n",
       "      <th>Month</th>\n",
       "      <th></th>\n",
       "      <th></th>\n",
       "      <th></th>\n",
       "      <th></th>\n",
       "      <th></th>\n",
       "      <th></th>\n",
       "      <th></th>\n",
       "      <th></th>\n",
       "      <th></th>\n",
       "      <th></th>\n",
       "      <th></th>\n",
       "      <th></th>\n",
       "      <th></th>\n",
       "      <th></th>\n",
       "    </tr>\n",
       "  </thead>\n",
       "  <tbody>\n",
       "    <tr>\n",
       "      <th>Rhondda Cynon Taf 016A</th>\n",
       "      <th>2017-10</th>\n",
       "      <td>6</td>\n",
       "      <td>0</td>\n",
       "      <td>2</td>\n",
       "      <td>0</td>\n",
       "      <td>0</td>\n",
       "      <td>0</td>\n",
       "      <td>1</td>\n",
       "      <td>0</td>\n",
       "      <td>2</td>\n",
       "      <td>0</td>\n",
       "      <td>0</td>\n",
       "      <td>0</td>\n",
       "      <td>0</td>\n",
       "      <td>1</td>\n",
       "    </tr>\n",
       "    <tr>\n",
       "      <th>Swansea 017D</th>\n",
       "      <th>2015-07</th>\n",
       "      <td>3</td>\n",
       "      <td>0</td>\n",
       "      <td>2</td>\n",
       "      <td>1</td>\n",
       "      <td>0</td>\n",
       "      <td>0</td>\n",
       "      <td>2</td>\n",
       "      <td>0</td>\n",
       "      <td>0</td>\n",
       "      <td>0</td>\n",
       "      <td>0</td>\n",
       "      <td>0</td>\n",
       "      <td>0</td>\n",
       "      <td>3</td>\n",
       "    </tr>\n",
       "    <tr>\n",
       "      <th>Neath Port Talbot 010B</th>\n",
       "      <th>2015-12</th>\n",
       "      <td>1</td>\n",
       "      <td>0</td>\n",
       "      <td>0</td>\n",
       "      <td>2</td>\n",
       "      <td>0</td>\n",
       "      <td>1</td>\n",
       "      <td>0</td>\n",
       "      <td>0</td>\n",
       "      <td>0</td>\n",
       "      <td>0</td>\n",
       "      <td>0</td>\n",
       "      <td>0</td>\n",
       "      <td>0</td>\n",
       "      <td>1</td>\n",
       "    </tr>\n",
       "    <tr>\n",
       "      <th>Rhondda Cynon Taf 002C</th>\n",
       "      <th>2016-01</th>\n",
       "      <td>5</td>\n",
       "      <td>0</td>\n",
       "      <td>0</td>\n",
       "      <td>0</td>\n",
       "      <td>0</td>\n",
       "      <td>0</td>\n",
       "      <td>0</td>\n",
       "      <td>0</td>\n",
       "      <td>0</td>\n",
       "      <td>0</td>\n",
       "      <td>0</td>\n",
       "      <td>0</td>\n",
       "      <td>0</td>\n",
       "      <td>3</td>\n",
       "    </tr>\n",
       "    <tr>\n",
       "      <th>Neath Port Talbot 010C</th>\n",
       "      <th>2016-07</th>\n",
       "      <td>5</td>\n",
       "      <td>0</td>\n",
       "      <td>0</td>\n",
       "      <td>0</td>\n",
       "      <td>0</td>\n",
       "      <td>0</td>\n",
       "      <td>1</td>\n",
       "      <td>0</td>\n",
       "      <td>0</td>\n",
       "      <td>0</td>\n",
       "      <td>0</td>\n",
       "      <td>0</td>\n",
       "      <td>0</td>\n",
       "      <td>1</td>\n",
       "    </tr>\n",
       "  </tbody>\n",
       "</table>\n",
       "</div>"
      ],
      "text/plain": [
       "Crime type                      Anti-social behaviour  Bicycle theft  \\\n",
       "LSOA name              Month                                           \n",
       "Rhondda Cynon Taf 016A 2017-10                      6              0   \n",
       "Swansea 017D           2015-07                      3              0   \n",
       "Neath Port Talbot 010B 2015-12                      1              0   \n",
       "Rhondda Cynon Taf 002C 2016-01                      5              0   \n",
       "Neath Port Talbot 010C 2016-07                      5              0   \n",
       "\n",
       "Crime type                      Burglary  Criminal damage and arson  Drugs  \\\n",
       "LSOA name              Month                                                 \n",
       "Rhondda Cynon Taf 016A 2017-10         2                          0      0   \n",
       "Swansea 017D           2015-07         2                          1      0   \n",
       "Neath Port Talbot 010B 2015-12         0                          2      0   \n",
       "Rhondda Cynon Taf 002C 2016-01         0                          0      0   \n",
       "Neath Port Talbot 010C 2016-07         0                          0      0   \n",
       "\n",
       "Crime type                      Other crime  Other theft  \\\n",
       "LSOA name              Month                               \n",
       "Rhondda Cynon Taf 016A 2017-10            0            1   \n",
       "Swansea 017D           2015-07            0            2   \n",
       "Neath Port Talbot 010B 2015-12            1            0   \n",
       "Rhondda Cynon Taf 002C 2016-01            0            0   \n",
       "Neath Port Talbot 010C 2016-07            0            1   \n",
       "\n",
       "Crime type                      Possession of weapons  Public order  Robbery  \\\n",
       "LSOA name              Month                                                   \n",
       "Rhondda Cynon Taf 016A 2017-10                      0             2        0   \n",
       "Swansea 017D           2015-07                      0             0        0   \n",
       "Neath Port Talbot 010B 2015-12                      0             0        0   \n",
       "Rhondda Cynon Taf 002C 2016-01                      0             0        0   \n",
       "Neath Port Talbot 010C 2016-07                      0             0        0   \n",
       "\n",
       "Crime type                      Shoplifting  Theft from the person  \\\n",
       "LSOA name              Month                                         \n",
       "Rhondda Cynon Taf 016A 2017-10            0                      0   \n",
       "Swansea 017D           2015-07            0                      0   \n",
       "Neath Port Talbot 010B 2015-12            0                      0   \n",
       "Rhondda Cynon Taf 002C 2016-01            0                      0   \n",
       "Neath Port Talbot 010C 2016-07            0                      0   \n",
       "\n",
       "Crime type                      Vehicle crime  Violence and sexual offences  \n",
       "LSOA name              Month                                                 \n",
       "Rhondda Cynon Taf 016A 2017-10              0                             1  \n",
       "Swansea 017D           2015-07              0                             3  \n",
       "Neath Port Talbot 010B 2015-12              0                             1  \n",
       "Rhondda Cynon Taf 002C 2016-01              0                             3  \n",
       "Neath Port Talbot 010C 2016-07              0                             1  "
      ]
     },
     "execution_count": 7,
     "metadata": {},
     "output_type": "execute_result"
    }
   ],
   "source": [
    "df_freqtable = pd.crosstab([df['LSOA name'],df['Month']],[df['Crime type']])\n",
    "df_freqtable.sample(5)"
   ]
  },
  {
   "cell_type": "code",
   "execution_count": 8,
   "metadata": {},
   "outputs": [
    {
     "data": {
      "text/html": [
       "<div>\n",
       "<style>\n",
       "    .dataframe thead tr:only-child th {\n",
       "        text-align: right;\n",
       "    }\n",
       "\n",
       "    .dataframe thead th {\n",
       "        text-align: left;\n",
       "    }\n",
       "\n",
       "    .dataframe tbody tr th {\n",
       "        vertical-align: top;\n",
       "    }\n",
       "</style>\n",
       "<table border=\"1\" class=\"dataframe\">\n",
       "  <thead>\n",
       "    <tr style=\"text-align: right;\">\n",
       "      <th>Crime type</th>\n",
       "      <th>LSOA name</th>\n",
       "      <th>Month</th>\n",
       "      <th>Anti-social behaviour</th>\n",
       "      <th>Bicycle theft</th>\n",
       "      <th>Burglary</th>\n",
       "      <th>Criminal damage and arson</th>\n",
       "      <th>Drugs</th>\n",
       "      <th>Other crime</th>\n",
       "      <th>Other theft</th>\n",
       "      <th>Possession of weapons</th>\n",
       "      <th>Public order</th>\n",
       "      <th>Robbery</th>\n",
       "      <th>Shoplifting</th>\n",
       "      <th>Theft from the person</th>\n",
       "      <th>Vehicle crime</th>\n",
       "      <th>Violence and sexual offences</th>\n",
       "    </tr>\n",
       "  </thead>\n",
       "  <tbody>\n",
       "    <tr>\n",
       "      <th>28623</th>\n",
       "      <td>The Vale of Glamorgan 012H</td>\n",
       "      <td>2015-11</td>\n",
       "      <td>4</td>\n",
       "      <td>0</td>\n",
       "      <td>0</td>\n",
       "      <td>1</td>\n",
       "      <td>4</td>\n",
       "      <td>0</td>\n",
       "      <td>1</td>\n",
       "      <td>0</td>\n",
       "      <td>1</td>\n",
       "      <td>0</td>\n",
       "      <td>0</td>\n",
       "      <td>0</td>\n",
       "      <td>0</td>\n",
       "      <td>5</td>\n",
       "    </tr>\n",
       "    <tr>\n",
       "      <th>6928</th>\n",
       "      <td>Cardiff 024C</td>\n",
       "      <td>2016-11</td>\n",
       "      <td>0</td>\n",
       "      <td>0</td>\n",
       "      <td>0</td>\n",
       "      <td>0</td>\n",
       "      <td>0</td>\n",
       "      <td>0</td>\n",
       "      <td>0</td>\n",
       "      <td>0</td>\n",
       "      <td>0</td>\n",
       "      <td>0</td>\n",
       "      <td>0</td>\n",
       "      <td>0</td>\n",
       "      <td>4</td>\n",
       "      <td>1</td>\n",
       "    </tr>\n",
       "    <tr>\n",
       "      <th>25823</th>\n",
       "      <td>Swansea 027B</td>\n",
       "      <td>2018-01</td>\n",
       "      <td>1</td>\n",
       "      <td>0</td>\n",
       "      <td>1</td>\n",
       "      <td>2</td>\n",
       "      <td>0</td>\n",
       "      <td>0</td>\n",
       "      <td>0</td>\n",
       "      <td>0</td>\n",
       "      <td>0</td>\n",
       "      <td>0</td>\n",
       "      <td>0</td>\n",
       "      <td>0</td>\n",
       "      <td>1</td>\n",
       "      <td>3</td>\n",
       "    </tr>\n",
       "    <tr>\n",
       "      <th>1280</th>\n",
       "      <td>Bridgend 008C</td>\n",
       "      <td>2017-12</td>\n",
       "      <td>1</td>\n",
       "      <td>0</td>\n",
       "      <td>0</td>\n",
       "      <td>0</td>\n",
       "      <td>0</td>\n",
       "      <td>1</td>\n",
       "      <td>0</td>\n",
       "      <td>0</td>\n",
       "      <td>1</td>\n",
       "      <td>0</td>\n",
       "      <td>0</td>\n",
       "      <td>0</td>\n",
       "      <td>0</td>\n",
       "      <td>6</td>\n",
       "    </tr>\n",
       "    <tr>\n",
       "      <th>17639</th>\n",
       "      <td>Rhondda Cynon Taf 012C</td>\n",
       "      <td>2016-07</td>\n",
       "      <td>7</td>\n",
       "      <td>0</td>\n",
       "      <td>1</td>\n",
       "      <td>4</td>\n",
       "      <td>0</td>\n",
       "      <td>0</td>\n",
       "      <td>2</td>\n",
       "      <td>0</td>\n",
       "      <td>0</td>\n",
       "      <td>0</td>\n",
       "      <td>0</td>\n",
       "      <td>0</td>\n",
       "      <td>0</td>\n",
       "      <td>1</td>\n",
       "    </tr>\n",
       "  </tbody>\n",
       "</table>\n",
       "</div>"
      ],
      "text/plain": [
       "Crime type                   LSOA name    Month  Anti-social behaviour  \\\n",
       "28623       The Vale of Glamorgan 012H  2015-11                      4   \n",
       "6928                      Cardiff 024C  2016-11                      0   \n",
       "25823                     Swansea 027B  2018-01                      1   \n",
       "1280                     Bridgend 008C  2017-12                      1   \n",
       "17639           Rhondda Cynon Taf 012C  2016-07                      7   \n",
       "\n",
       "Crime type  Bicycle theft  Burglary  Criminal damage and arson  Drugs  \\\n",
       "28623                   0         0                          1      4   \n",
       "6928                    0         0                          0      0   \n",
       "25823                   0         1                          2      0   \n",
       "1280                    0         0                          0      0   \n",
       "17639                   0         1                          4      0   \n",
       "\n",
       "Crime type  Other crime  Other theft  Possession of weapons  Public order  \\\n",
       "28623                 0            1                      0             1   \n",
       "6928                  0            0                      0             0   \n",
       "25823                 0            0                      0             0   \n",
       "1280                  1            0                      0             1   \n",
       "17639                 0            2                      0             0   \n",
       "\n",
       "Crime type  Robbery  Shoplifting  Theft from the person  Vehicle crime  \\\n",
       "28623             0            0                      0              0   \n",
       "6928              0            0                      0              4   \n",
       "25823             0            0                      0              1   \n",
       "1280              0            0                      0              0   \n",
       "17639             0            0                      0              0   \n",
       "\n",
       "Crime type  Violence and sexual offences  \n",
       "28623                                  5  \n",
       "6928                                   1  \n",
       "25823                                  3  \n",
       "1280                                   6  \n",
       "17639                                  1  "
      ]
     },
     "execution_count": 8,
     "metadata": {},
     "output_type": "execute_result"
    }
   ],
   "source": [
    "# LSOA names and Months are indices. Let's make them columns instead\n",
    "col_lsoa = pd.Series(df_freqtable.index.get_level_values('LSOA name'))\n",
    "df_freqtable['LSOA name'] = col_lsoa.values\n",
    "col_month = pd.Series(df_freqtable.index.get_level_values('Month'))\n",
    "df_freqtable['Month'] = col_month.values\n",
    "df_freqtable = df_freqtable.reset_index(drop=True)\n",
    "\n",
    "# Reorder columns\n",
    "df_freqtable = df_freqtable[['LSOA name', 'Month', 'Anti-social behaviour', 'Bicycle theft', 'Burglary',\n",
    "                             'Criminal damage and arson','Drugs','Other crime','Other theft','Possession of weapons',\n",
    "                             'Public order','Robbery','Shoplifting','Theft from the person',\n",
    "                             'Vehicle crime','Violence and sexual offences']]\n",
    "df_freqtable.sample(5)"
   ]
  },
  {
   "cell_type": "markdown",
   "metadata": {},
   "source": [
    "## 2.3 Harmonise the data\n",
    "\n",
    "Because some LSOA don't have any crime recorded for certain periods, we have to create rows filled with 0 for these periods"
   ]
  },
  {
   "cell_type": "code",
   "execution_count": 9,
   "metadata": {},
   "outputs": [
    {
     "data": {
      "text/html": [
       "<div>\n",
       "<style>\n",
       "    .dataframe thead tr:only-child th {\n",
       "        text-align: right;\n",
       "    }\n",
       "\n",
       "    .dataframe thead th {\n",
       "        text-align: left;\n",
       "    }\n",
       "\n",
       "    .dataframe tbody tr th {\n",
       "        vertical-align: top;\n",
       "    }\n",
       "</style>\n",
       "<table border=\"1\" class=\"dataframe\">\n",
       "  <thead>\n",
       "    <tr style=\"text-align: right;\">\n",
       "      <th>Crime type</th>\n",
       "      <th>LSOA name</th>\n",
       "      <th>Month</th>\n",
       "      <th>Anti-social behaviour</th>\n",
       "      <th>Bicycle theft</th>\n",
       "      <th>Burglary</th>\n",
       "      <th>Criminal damage and arson</th>\n",
       "      <th>Drugs</th>\n",
       "      <th>Other crime</th>\n",
       "      <th>Other theft</th>\n",
       "      <th>Possession of weapons</th>\n",
       "      <th>Public order</th>\n",
       "      <th>Robbery</th>\n",
       "      <th>Shoplifting</th>\n",
       "      <th>Theft from the person</th>\n",
       "      <th>Vehicle crime</th>\n",
       "      <th>Violence and sexual offences</th>\n",
       "    </tr>\n",
       "  </thead>\n",
       "  <tbody>\n",
       "    <tr>\n",
       "      <th>29300</th>\n",
       "      <td>Aylesbury Vale 018D</td>\n",
       "      <td>2015-04</td>\n",
       "      <td>0</td>\n",
       "      <td>0</td>\n",
       "      <td>0</td>\n",
       "      <td>0</td>\n",
       "      <td>0</td>\n",
       "      <td>0</td>\n",
       "      <td>0</td>\n",
       "      <td>0</td>\n",
       "      <td>0</td>\n",
       "      <td>0</td>\n",
       "      <td>0</td>\n",
       "      <td>0</td>\n",
       "      <td>0</td>\n",
       "      <td>0</td>\n",
       "    </tr>\n",
       "    <tr>\n",
       "      <th>29290</th>\n",
       "      <td>Aylesbury Vale 018D</td>\n",
       "      <td>2015-05</td>\n",
       "      <td>0</td>\n",
       "      <td>0</td>\n",
       "      <td>0</td>\n",
       "      <td>0</td>\n",
       "      <td>0</td>\n",
       "      <td>0</td>\n",
       "      <td>0</td>\n",
       "      <td>0</td>\n",
       "      <td>0</td>\n",
       "      <td>0</td>\n",
       "      <td>0</td>\n",
       "      <td>0</td>\n",
       "      <td>0</td>\n",
       "      <td>0</td>\n",
       "    </tr>\n",
       "    <tr>\n",
       "      <th>29312</th>\n",
       "      <td>Aylesbury Vale 018D</td>\n",
       "      <td>2015-06</td>\n",
       "      <td>0</td>\n",
       "      <td>0</td>\n",
       "      <td>0</td>\n",
       "      <td>0</td>\n",
       "      <td>0</td>\n",
       "      <td>0</td>\n",
       "      <td>0</td>\n",
       "      <td>0</td>\n",
       "      <td>0</td>\n",
       "      <td>0</td>\n",
       "      <td>0</td>\n",
       "      <td>0</td>\n",
       "      <td>0</td>\n",
       "      <td>0</td>\n",
       "    </tr>\n",
       "    <tr>\n",
       "      <th>29299</th>\n",
       "      <td>Aylesbury Vale 018D</td>\n",
       "      <td>2015-07</td>\n",
       "      <td>0</td>\n",
       "      <td>0</td>\n",
       "      <td>0</td>\n",
       "      <td>0</td>\n",
       "      <td>0</td>\n",
       "      <td>0</td>\n",
       "      <td>0</td>\n",
       "      <td>0</td>\n",
       "      <td>0</td>\n",
       "      <td>0</td>\n",
       "      <td>0</td>\n",
       "      <td>0</td>\n",
       "      <td>0</td>\n",
       "      <td>0</td>\n",
       "    </tr>\n",
       "    <tr>\n",
       "      <th>29313</th>\n",
       "      <td>Aylesbury Vale 018D</td>\n",
       "      <td>2015-08</td>\n",
       "      <td>0</td>\n",
       "      <td>0</td>\n",
       "      <td>0</td>\n",
       "      <td>0</td>\n",
       "      <td>0</td>\n",
       "      <td>0</td>\n",
       "      <td>0</td>\n",
       "      <td>0</td>\n",
       "      <td>0</td>\n",
       "      <td>0</td>\n",
       "      <td>0</td>\n",
       "      <td>0</td>\n",
       "      <td>0</td>\n",
       "      <td>0</td>\n",
       "    </tr>\n",
       "  </tbody>\n",
       "</table>\n",
       "</div>"
      ],
      "text/plain": [
       "Crime type            LSOA name    Month  Anti-social behaviour  \\\n",
       "29300       Aylesbury Vale 018D  2015-04                      0   \n",
       "29290       Aylesbury Vale 018D  2015-05                      0   \n",
       "29312       Aylesbury Vale 018D  2015-06                      0   \n",
       "29299       Aylesbury Vale 018D  2015-07                      0   \n",
       "29313       Aylesbury Vale 018D  2015-08                      0   \n",
       "\n",
       "Crime type  Bicycle theft  Burglary  Criminal damage and arson  Drugs  \\\n",
       "29300                   0         0                          0      0   \n",
       "29290                   0         0                          0      0   \n",
       "29312                   0         0                          0      0   \n",
       "29299                   0         0                          0      0   \n",
       "29313                   0         0                          0      0   \n",
       "\n",
       "Crime type  Other crime  Other theft  Possession of weapons  Public order  \\\n",
       "29300                 0            0                      0             0   \n",
       "29290                 0            0                      0             0   \n",
       "29312                 0            0                      0             0   \n",
       "29299                 0            0                      0             0   \n",
       "29313                 0            0                      0             0   \n",
       "\n",
       "Crime type  Robbery  Shoplifting  Theft from the person  Vehicle crime  \\\n",
       "29300             0            0                      0              0   \n",
       "29290             0            0                      0              0   \n",
       "29312             0            0                      0              0   \n",
       "29299             0            0                      0              0   \n",
       "29313             0            0                      0              0   \n",
       "\n",
       "Crime type  Violence and sexual offences  \n",
       "29300                                  0  \n",
       "29290                                  0  \n",
       "29312                                  0  \n",
       "29299                                  0  \n",
       "29313                                  0  "
      ]
     },
     "execution_count": 9,
     "metadata": {},
     "output_type": "execute_result"
    }
   ],
   "source": [
    "LSOAs = df_freqtable['LSOA name'].unique()\n",
    "Months = df_freqtable['Month'].unique()\n",
    "\n",
    "for l in LSOAs:\n",
    "    df_tmp = df_freqtable[df_freqtable['LSOA name'] == l]\n",
    "    for m in Months:\n",
    "        if (m not in df_tmp['Month'].unique()):\n",
    "            df_freqtable = df_freqtable.append({'LSOA name':l, 'Month':m, \n",
    "                                                'Anti-social behaviour':0, 'Bicycle theft':0, 'Burglary':0,\n",
    "                                                'Criminal damage and arson':0,'Drugs':0,'Other crime':0,\n",
    "                                                'Other theft':0,'Possession of weapons':0,'Public order':0,\n",
    "                                                'Robbery':0,'Shoplifting':0,'Theft from the person':0,\n",
    "                                                'Vehicle crime':0,'Violence and sexual offences':0}, ignore_index=True)\n",
    "df_freqtable = df_freqtable.sort_values(['LSOA name', 'Month'], ascending=[True, True])            \n",
    "df_freqtable.head(5)"
   ]
  },
  {
   "cell_type": "markdown",
   "metadata": {},
   "source": [
    "## 2.4 Add total"
   ]
  },
  {
   "cell_type": "code",
   "execution_count": 10,
   "metadata": {},
   "outputs": [
    {
     "name": "stdout",
     "output_type": "stream",
     "text": [
      "(38016, 17)\n"
     ]
    }
   ],
   "source": [
    "# Sum all crimes for each LSOA\n",
    "df_freqtable['Crime Total']= df_freqtable.sum(axis=1)\n",
    "print(df_freqtable.shape)\n",
    "df_freqtable.sample(5)\n",
    "\n",
    "df_freqtable.to_csv(crosstable, index=False)"
   ]
  },
  {
   "cell_type": "markdown",
   "metadata": {},
   "source": [
    "## 2.5 Plot time series of crime total\n",
    "\n",
    "Read in the data preprocessed before and plot 4 random lsoa to see how the data distributions look like. "
   ]
  },
  {
   "cell_type": "code",
   "execution_count": 11,
   "metadata": {},
   "outputs": [
    {
     "data": {
      "image/png": "[encoded data removed]",
      "text/plain": [
       "<matplotlib.figure.Figure at 0x2d8c0f600f0>"
      ]
     },
     "metadata": {},
     "output_type": "display_data"
    },
    {
     "data": {
      "image/png": "[encoded data removed]",
      "text/plain": [
       "<matplotlib.figure.Figure at 0x2d8c20346d8>"
      ]
     },
     "metadata": {},
     "output_type": "display_data"
    },
    {
     "data": {
      "image/png": "[encoded data removed]",
      "text/plain": [
       "<matplotlib.figure.Figure at 0x2d8c0bfc080>"
      ]
     },
     "metadata": {},
     "output_type": "display_data"
    },
    {
     "data": {
      "image/png": "[encoded data removed]",
      "text/plain": [
       "<matplotlib.figure.Figure at 0x2d8c3f31a20>"
      ]
     },
     "metadata": {},
     "output_type": "display_data"
    }
   ],
   "source": [
    "import matplotlib.pyplot as plt\n",
    "import random\n",
    "\n",
    "\n",
    "list_lsoa = list(df_freqtable['LSOA name'].unique())\n",
    "# Plot only 4 random LSOA\n",
    "sublist_lsoa = random.sample(list_lsoa, 4)\n",
    "\n",
    "index = 0\n",
    "for lsoa in sublist_lsoa:\n",
    "    plt.figure(figsize=(20,5))\n",
    "\n",
    "    plt.subplot(2, 1, index+1)\n",
    "    axes = plt.gca()\n",
    "    #axes.set_ylim([0,70])\n",
    "    \n",
    "    df_lsoa = df_freqtable.loc[(df_freqtable['LSOA name'] == lsoa)]\n",
    "    \n",
    "    x_labels = list(df_lsoa['Month'])\n",
    "    data = df_lsoa['Crime Total'].values.tolist()\n",
    "\n",
    "    plt.bar(range(len(data)), data, align=\"center\", color='lightgreen',edgecolor='black', linewidth=1.2)\n",
    "    plt.xticks(range(len(data)),x_labels, rotation=45, ha=\"right\", rotation_mode=\"anchor\")\n",
    "    # Add title and axis names\n",
    "    plt.title(lsoa)\n",
    "    plt.xlabel('Year-Month')\n",
    "    plt.ylabel('Total number of crimes - All types')\n",
    "\n",
    "    plt.show()"
   ]
  },
  {
   "cell_type": "markdown",
   "metadata": {
    "collapsed": true
   },
   "source": [
    "# 3 Format the data ready for training\n",
    "\n",
    "## 3.1 Reformat the continuous variables"
   ]
  },
  {
   "cell_type": "code",
   "execution_count": 12,
   "metadata": {},
   "outputs": [
    {
     "data": {
      "text/html": [
       "<div>\n",
       "<style>\n",
       "    .dataframe thead tr:only-child th {\n",
       "        text-align: right;\n",
       "    }\n",
       "\n",
       "    .dataframe thead th {\n",
       "        text-align: left;\n",
       "    }\n",
       "\n",
       "    .dataframe tbody tr th {\n",
       "        vertical-align: top;\n",
       "    }\n",
       "</style>\n",
       "<table border=\"1\" class=\"dataframe\">\n",
       "  <thead>\n",
       "    <tr style=\"text-align: right;\">\n",
       "      <th>Crime type</th>\n",
       "      <th>LSOA name</th>\n",
       "      <th>Month</th>\n",
       "      <th>Anti-social behaviour</th>\n",
       "      <th>Robbery</th>\n",
       "      <th>Violence and sexual offences</th>\n",
       "    </tr>\n",
       "  </thead>\n",
       "  <tbody>\n",
       "    <tr>\n",
       "      <th>29300</th>\n",
       "      <td>Aylesbury Vale 018D</td>\n",
       "      <td>2015-04</td>\n",
       "      <td>0</td>\n",
       "      <td>0</td>\n",
       "      <td>0</td>\n",
       "    </tr>\n",
       "    <tr>\n",
       "      <th>29290</th>\n",
       "      <td>Aylesbury Vale 018D</td>\n",
       "      <td>2015-05</td>\n",
       "      <td>0</td>\n",
       "      <td>0</td>\n",
       "      <td>0</td>\n",
       "    </tr>\n",
       "    <tr>\n",
       "      <th>29312</th>\n",
       "      <td>Aylesbury Vale 018D</td>\n",
       "      <td>2015-06</td>\n",
       "      <td>0</td>\n",
       "      <td>0</td>\n",
       "      <td>0</td>\n",
       "    </tr>\n",
       "    <tr>\n",
       "      <th>29299</th>\n",
       "      <td>Aylesbury Vale 018D</td>\n",
       "      <td>2015-07</td>\n",
       "      <td>0</td>\n",
       "      <td>0</td>\n",
       "      <td>0</td>\n",
       "    </tr>\n",
       "    <tr>\n",
       "      <th>29313</th>\n",
       "      <td>Aylesbury Vale 018D</td>\n",
       "      <td>2015-08</td>\n",
       "      <td>0</td>\n",
       "      <td>0</td>\n",
       "      <td>0</td>\n",
       "    </tr>\n",
       "  </tbody>\n",
       "</table>\n",
       "</div>"
      ],
      "text/plain": [
       "Crime type            LSOA name    Month  Anti-social behaviour  Robbery  \\\n",
       "29300       Aylesbury Vale 018D  2015-04                      0        0   \n",
       "29290       Aylesbury Vale 018D  2015-05                      0        0   \n",
       "29312       Aylesbury Vale 018D  2015-06                      0        0   \n",
       "29299       Aylesbury Vale 018D  2015-07                      0        0   \n",
       "29313       Aylesbury Vale 018D  2015-08                      0        0   \n",
       "\n",
       "Crime type  Violence and sexual offences  \n",
       "29300                                  0  \n",
       "29290                                  0  \n",
       "29312                                  0  \n",
       "29299                                  0  \n",
       "29313                                  0  "
      ]
     },
     "execution_count": 12,
     "metadata": {},
     "output_type": "execute_result"
    }
   ],
   "source": [
    "# Keep only 3 types of crimes for now for simplicity\n",
    "df_freqtable = df_freqtable[['LSOA name','Month','Anti-social behaviour','Robbery','Violence and sexual offences']]\n",
    "\n",
    "df_freqtable.head(5)"
   ]
  },
  {
   "cell_type": "markdown",
   "metadata": {},
   "source": [
    "## 3.2 Read in the population data"
   ]
  },
  {
   "cell_type": "code",
   "execution_count": 13,
   "metadata": {},
   "outputs": [
    {
     "name": "stderr",
     "output_type": "stream",
     "text": [
      "C:\\Users\\Lanthao\\Anaconda3\\lib\\site-packages\\IPython\\core\\interactiveshell.py:2717: DtypeWarning: Columns (3) have mixed types. Specify dtype option on import or set low_memory=False.\n",
      "  interactivity=interactivity, compiler=compiler, result=result)\n"
     ]
    },
    {
     "data": {
      "text/html": [
       "<div>\n",
       "<style>\n",
       "    .dataframe thead tr:only-child th {\n",
       "        text-align: right;\n",
       "    }\n",
       "\n",
       "    .dataframe thead th {\n",
       "        text-align: left;\n",
       "    }\n",
       "\n",
       "    .dataframe tbody tr th {\n",
       "        vertical-align: top;\n",
       "    }\n",
       "</style>\n",
       "<table border=\"1\" class=\"dataframe\">\n",
       "  <thead>\n",
       "    <tr style=\"text-align: right;\">\n",
       "      <th></th>\n",
       "      <th>LSOA01NM</th>\n",
       "      <th>RUC01CD</th>\n",
       "    </tr>\n",
       "  </thead>\n",
       "  <tbody>\n",
       "    <tr>\n",
       "      <th>57470</th>\n",
       "      <td>Leeds 087C</td>\n",
       "      <td>5</td>\n",
       "    </tr>\n",
       "    <tr>\n",
       "      <th>133959</th>\n",
       "      <td>Sevenoaks 010D</td>\n",
       "      <td>5</td>\n",
       "    </tr>\n",
       "    <tr>\n",
       "      <th>42574</th>\n",
       "      <td>Newcastle upon Tyne 028B</td>\n",
       "      <td>5</td>\n",
       "    </tr>\n",
       "    <tr>\n",
       "      <th>30556</th>\n",
       "      <td>Tameside 020C</td>\n",
       "      <td>5</td>\n",
       "    </tr>\n",
       "    <tr>\n",
       "      <th>12220</th>\n",
       "      <td>Hillingdon 017C</td>\n",
       "      <td>5</td>\n",
       "    </tr>\n",
       "  </tbody>\n",
       "</table>\n",
       "</div>"
      ],
      "text/plain": [
       "                        LSOA01NM  RUC01CD\n",
       "57470                 Leeds 087C        5\n",
       "133959            Sevenoaks 010D        5\n",
       "42574   Newcastle upon Tyne 028B        5\n",
       "30556              Tameside 020C        5\n",
       "12220            Hillingdon 017C        5"
      ]
     },
     "execution_count": 13,
     "metadata": {},
     "output_type": "execute_result"
    }
   ],
   "source": [
    "import pandas as pd\n",
    "\n",
    "df_class = pd.read_csv('C:/Users/Lanthao/Desktop/GAN/data/RUC_OA_2001_EW_LU.csv')[['LSOA01NM','RUC01CD']]\n",
    "df_class.sample(5)"
   ]
  },
  {
   "cell_type": "code",
   "execution_count": 14,
   "metadata": {},
   "outputs": [
    {
     "name": "stdout",
     "output_type": "stream",
     "text": [
      "175434\n",
      "41174\n"
     ]
    }
   ],
   "source": [
    "#df_class[df_class.duplicated(keep=False)]\n",
    "print(len(df_class))\n",
    "df_class = df_class.drop_duplicates(subset=['LSOA01NM', 'RUC01CD'], keep='first')\n",
    "print(len(df_class))"
   ]
  },
  {
   "cell_type": "code",
   "execution_count": 15,
   "metadata": {},
   "outputs": [
    {
     "name": "stderr",
     "output_type": "stream",
     "text": [
      "C:\\Users\\Lanthao\\Anaconda3\\lib\\site-packages\\ipykernel_launcher.py:1: DeprecationWarning: \n",
      ".ix is deprecated. Please use\n",
      ".loc for label based indexing or\n",
      ".iloc for positional indexing\n",
      "\n",
      "See the documentation here:\n",
      "http://pandas.pydata.org/pandas-docs/stable/indexing.html#deprecate_ix\n",
      "  \"\"\"Entry point for launching an IPython kernel.\n"
     ]
    },
    {
     "data": {
      "text/html": [
       "<div>\n",
       "<style>\n",
       "    .dataframe thead tr:only-child th {\n",
       "        text-align: right;\n",
       "    }\n",
       "\n",
       "    .dataframe thead th {\n",
       "        text-align: left;\n",
       "    }\n",
       "\n",
       "    .dataframe tbody tr th {\n",
       "        vertical-align: top;\n",
       "    }\n",
       "</style>\n",
       "<table border=\"1\" class=\"dataframe\">\n",
       "  <thead>\n",
       "    <tr style=\"text-align: right;\">\n",
       "      <th></th>\n",
       "      <th>LSOA01NM</th>\n",
       "      <th>RUC01CD</th>\n",
       "    </tr>\n",
       "  </thead>\n",
       "  <tbody>\n",
       "    <tr>\n",
       "      <th>111919</th>\n",
       "      <td>South Hams 004C</td>\n",
       "      <td>0</td>\n",
       "    </tr>\n",
       "    <tr>\n",
       "      <th>31281</th>\n",
       "      <td>Trafford 018E</td>\n",
       "      <td>0</td>\n",
       "    </tr>\n",
       "    <tr>\n",
       "      <th>113778</th>\n",
       "      <td>West Dorset 012A</td>\n",
       "      <td>0</td>\n",
       "    </tr>\n",
       "    <tr>\n",
       "      <th>81465</th>\n",
       "      <td>Medway 024A</td>\n",
       "      <td>0</td>\n",
       "    </tr>\n",
       "    <tr>\n",
       "      <th>104918</th>\n",
       "      <td>Carrick 008B</td>\n",
       "      <td>0</td>\n",
       "    </tr>\n",
       "  </tbody>\n",
       "</table>\n",
       "</div>"
      ],
      "text/plain": [
       "                LSOA01NM  RUC01CD\n",
       "111919   South Hams 004C        0\n",
       "31281      Trafford 018E        0\n",
       "113778  West Dorset 012A        0\n",
       "81465        Medway 024A        0\n",
       "104918      Carrick 008B        0"
      ]
     },
     "execution_count": 15,
     "metadata": {},
     "output_type": "execute_result"
    }
   ],
   "source": [
    "df_class.ix[df_class['RUC01CD'] >= 5, 'RUC01CD'] = 1\n",
    "df_class.ix[df_class['RUC01CD'] < 5, 'RUC01CD'] = 0\n",
    "df_class.sample(5)"
   ]
  },
  {
   "cell_type": "markdown",
   "metadata": {},
   "source": [
    "## 3.3 Keep only the lsoa that belong to police data and population data"
   ]
  },
  {
   "cell_type": "code",
   "execution_count": 16,
   "metadata": {},
   "outputs": [
    {
     "name": "stdout",
     "output_type": "stream",
     "text": [
      "1056\n",
      "34378\n",
      "839\n"
     ]
    }
   ],
   "source": [
    "lsoa_police = df_freqtable['LSOA name'].unique()\n",
    "print(len(lsoa_police))\n",
    "\n",
    "lsoa_population = df_class['LSOA01NM'].unique()\n",
    "print(len(lsoa_population))\n",
    "\n",
    "# Intersect the 2 lists together to keep lsoas that are in both lists\n",
    "lsoas = [value for value in lsoa_police if value in lsoa_population]\n",
    "print(len(lsoas))"
   ]
  },
  {
   "cell_type": "markdown",
   "metadata": {},
   "source": [
    "To simplify, we resample the number of months to be like in the example codes. Take only 12 months"
   ]
  },
  {
   "cell_type": "code",
   "execution_count": 17,
   "metadata": {},
   "outputs": [
    {
     "name": "stdout",
     "output_type": "stream",
     "text": [
      "[2 3 2 2 3 4 2 0 1 0 1 0]\n"
     ]
    }
   ],
   "source": [
    "import numpy as np\n",
    "\n",
    "X = {}\n",
    "y = {}\n",
    "\n",
    "for lsoa in lsoas:\n",
    "    tmp = df_freqtable[df_freqtable['LSOA name'] == lsoa].drop(['LSOA name','Month'], 1).T\n",
    "    x_ex = tmp.as_matrix(columns=None) # array of arrays for one given lsoa \n",
    "    # here, we take only the first 12 months of data to be like in the example. Otherwise, comment out the line below\n",
    "    x_ex = x_ex[:,[0,1,2,3,4,5,6,7,8,9,10,11]]\n",
    "    X[lsoa] = x_ex\n",
    "    # Create categorical variables\n",
    "    y[lsoa] = df_class.loc[df_class['LSOA01NM'] == lsoa]['RUC01CD']\n",
    "    \n",
    "print(X['Swansea 020A'][0])"
   ]
  },
  {
   "cell_type": "code",
   "execution_count": 18,
   "metadata": {},
   "outputs": [
    {
     "name": "stdout",
     "output_type": "stream",
     "text": [
      "839\n",
      "839\n"
     ]
    }
   ],
   "source": [
    "print(len(X))\n",
    "print(len(y))"
   ]
  },
  {
   "cell_type": "code",
   "execution_count": 19,
   "metadata": {
    "collapsed": true
   },
   "outputs": [],
   "source": [
    "import pickle as pkl\n",
    "pkl.dump(X, open('./X_bp.pkl', 'wb'))\n",
    "pkl.dump(y, open('./y_bp.pkl', 'wb'))"
   ]
  },
  {
   "cell_type": "code",
   "execution_count": 21,
   "metadata": {},
   "outputs": [
    {
     "name": "stdout",
     "output_type": "stream",
     "text": [
      "839\n",
      "999\n",
      "839\n"
     ]
    }
   ],
   "source": [
    "import pickle as pkl\n",
    "\n",
    "X_array = np.array([])\n",
    "y_array = np.array([])\n",
    "\n",
    "for key, value in sorted(X.items()):\n",
    "    if X_array.shape[0] == 0:\n",
    "        X_array = np.array([value[:, :12]])\n",
    "        y_array = y[key]\n",
    "    else:\n",
    "        X_array = np.concatenate((X_array, [value[:, :12]]))\n",
    "        y_array = np.concatenate((y_array, y[key]))\n",
    "    #print('key=%s: y_array=%s'%(key,y_array))\n",
    "        \n",
    "print(len(X_array))\n",
    "print(len(y_array))\n",
    "y_array = y_array[:839]\n",
    "print(len(y_array))"
   ]
  },
  {
   "cell_type": "markdown",
   "metadata": {},
   "source": [
    "## 3.4 Save the preprocessed data ready for training"
   ]
  },
  {
   "cell_type": "code",
   "execution_count": 22,
   "metadata": {},
   "outputs": [],
   "source": [
    "pkl.dump(X_array, open('./output/X_processed.pkl', 'wb'))\n",
    "pkl.dump(y_array, open('./output/y_processed.pkl', 'wb'))"
   ]
  },
  {
   "cell_type": "code",
   "execution_count": 23,
   "metadata": {},
   "outputs": [
    {
     "name": "stdout",
     "output_type": "stream",
     "text": [
      "839\n",
      "839\n"
     ]
    }
   ],
   "source": [
    "print(len(X_array))\n",
    "print(len(y_array))"
   ]
  },
  {
   "cell_type": "code",
   "execution_count": null,
   "metadata": {
    "collapsed": true
   },
   "outputs": [],
   "source": []
  }
 ],
 "metadata": {
  "kernelspec": {
   "display_name": "Python 3",
   "language": "python",
   "name": "python3"
  },
  "language_info": {
   "codemirror_mode": {
    "name": "ipython",
    "version": 3
   },
   "file_extension": ".py",
   "mimetype": "text/x-python",
   "name": "python",
   "nbconvert_exporter": "python",
   "pygments_lexer": "ipython3",
   "version": "3.6.3"
  }
 },
 "nbformat": 4,
 "nbformat_minor": 2
}
